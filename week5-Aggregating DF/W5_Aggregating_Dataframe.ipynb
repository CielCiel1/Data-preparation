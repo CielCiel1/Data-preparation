{
  "nbformat": 4,
  "nbformat_minor": 0,
  "metadata": {
    "colab": {
      "name": "W5-Aggregating Dataframe.ipynb",
      "provenance": []
    },
    "kernelspec": {
      "name": "python3",
      "display_name": "Python 3"
    },
    "language_info": {
      "name": "python"
    }
  },
  "cells": [
    {
      "cell_type": "markdown",
      "metadata": {
        "id": "5si2XIC6Jttd"
      },
      "source": [
        "**1** Load dataset nyc_weather_2018 and weather_stations, then calculate the average elevation of stations that calculat‘SNOW’ and contains ‘NJ US’ in its name."
      ]
    },
    {
      "cell_type": "code",
      "metadata": {
        "id": "Z86Q1NdVJK-F"
      },
      "source": [
        "import pandas as pd\n",
        "import numpy as np"
      ],
      "execution_count": 1,
      "outputs": []
    },
    {
      "cell_type": "code",
      "metadata": {
        "id": "G7roaDQbmz0W"
      },
      "source": [
        "station_infor = pd.read_csv(\"/content/weather_stations.csv\")\n",
        "weather = pd.read_csv(\"/content/nyc_weather_2018.csv\")"
      ],
      "execution_count": 2,
      "outputs": []
    },
    {
      "cell_type": "code",
      "metadata": {
        "colab": {
          "base_uri": "https://localhost:8080/",
          "height": 206
        },
        "id": "jRQltGtSnSbu",
        "outputId": "077fa276-1632-4b20-edc9-8eaf91620a8d"
      },
      "source": [
        "station_infor.head()"
      ],
      "execution_count": 3,
      "outputs": [
        {
          "output_type": "execute_result",
          "data": {
            "text/html": [
              "<div>\n",
              "<style scoped>\n",
              "    .dataframe tbody tr th:only-of-type {\n",
              "        vertical-align: middle;\n",
              "    }\n",
              "\n",
              "    .dataframe tbody tr th {\n",
              "        vertical-align: top;\n",
              "    }\n",
              "\n",
              "    .dataframe thead th {\n",
              "        text-align: right;\n",
              "    }\n",
              "</style>\n",
              "<table border=\"1\" class=\"dataframe\">\n",
              "  <thead>\n",
              "    <tr style=\"text-align: right;\">\n",
              "      <th></th>\n",
              "      <th>id</th>\n",
              "      <th>name</th>\n",
              "      <th>latitude</th>\n",
              "      <th>longitude</th>\n",
              "      <th>elevation</th>\n",
              "    </tr>\n",
              "  </thead>\n",
              "  <tbody>\n",
              "    <tr>\n",
              "      <th>0</th>\n",
              "      <td>GHCND:US1CTFR0022</td>\n",
              "      <td>STAMFORD 2.6 SSW, CT US</td>\n",
              "      <td>41.064100</td>\n",
              "      <td>-73.577000</td>\n",
              "      <td>36.6</td>\n",
              "    </tr>\n",
              "    <tr>\n",
              "      <th>1</th>\n",
              "      <td>GHCND:US1CTFR0039</td>\n",
              "      <td>STAMFORD 4.2 S, CT US</td>\n",
              "      <td>41.037788</td>\n",
              "      <td>-73.568176</td>\n",
              "      <td>6.4</td>\n",
              "    </tr>\n",
              "    <tr>\n",
              "      <th>2</th>\n",
              "      <td>GHCND:US1NJBG0001</td>\n",
              "      <td>BERGENFIELD 0.3 SW, NJ US</td>\n",
              "      <td>40.921298</td>\n",
              "      <td>-74.001983</td>\n",
              "      <td>20.1</td>\n",
              "    </tr>\n",
              "    <tr>\n",
              "      <th>3</th>\n",
              "      <td>GHCND:US1NJBG0002</td>\n",
              "      <td>SADDLE BROOK TWP 0.6 E, NJ US</td>\n",
              "      <td>40.902694</td>\n",
              "      <td>-74.083358</td>\n",
              "      <td>16.8</td>\n",
              "    </tr>\n",
              "    <tr>\n",
              "      <th>4</th>\n",
              "      <td>GHCND:US1NJBG0003</td>\n",
              "      <td>TENAFLY 1.3 W, NJ US</td>\n",
              "      <td>40.914670</td>\n",
              "      <td>-73.977500</td>\n",
              "      <td>21.6</td>\n",
              "    </tr>\n",
              "  </tbody>\n",
              "</table>\n",
              "</div>"
            ],
            "text/plain": [
              "                  id                           name  ...  longitude  elevation\n",
              "0  GHCND:US1CTFR0022        STAMFORD 2.6 SSW, CT US  ... -73.577000       36.6\n",
              "1  GHCND:US1CTFR0039          STAMFORD 4.2 S, CT US  ... -73.568176        6.4\n",
              "2  GHCND:US1NJBG0001      BERGENFIELD 0.3 SW, NJ US  ... -74.001983       20.1\n",
              "3  GHCND:US1NJBG0002  SADDLE BROOK TWP 0.6 E, NJ US  ... -74.083358       16.8\n",
              "4  GHCND:US1NJBG0003           TENAFLY 1.3 W, NJ US  ... -73.977500       21.6\n",
              "\n",
              "[5 rows x 5 columns]"
            ]
          },
          "metadata": {},
          "execution_count": 3
        }
      ]
    },
    {
      "cell_type": "code",
      "metadata": {
        "colab": {
          "base_uri": "https://localhost:8080/",
          "height": 206
        },
        "id": "DsawZq-unUOZ",
        "outputId": "f7ecbc67-a922-4350-c615-f94bbd0b5668"
      },
      "source": [
        "weather.head()"
      ],
      "execution_count": 4,
      "outputs": [
        {
          "output_type": "execute_result",
          "data": {
            "text/html": [
              "<div>\n",
              "<style scoped>\n",
              "    .dataframe tbody tr th:only-of-type {\n",
              "        vertical-align: middle;\n",
              "    }\n",
              "\n",
              "    .dataframe tbody tr th {\n",
              "        vertical-align: top;\n",
              "    }\n",
              "\n",
              "    .dataframe thead th {\n",
              "        text-align: right;\n",
              "    }\n",
              "</style>\n",
              "<table border=\"1\" class=\"dataframe\">\n",
              "  <thead>\n",
              "    <tr style=\"text-align: right;\">\n",
              "      <th></th>\n",
              "      <th>date</th>\n",
              "      <th>datatype</th>\n",
              "      <th>station</th>\n",
              "      <th>attributes</th>\n",
              "      <th>value</th>\n",
              "    </tr>\n",
              "  </thead>\n",
              "  <tbody>\n",
              "    <tr>\n",
              "      <th>0</th>\n",
              "      <td>2018-01-01T00:00:00</td>\n",
              "      <td>PRCP</td>\n",
              "      <td>GHCND:US1CTFR0039</td>\n",
              "      <td>,,N,</td>\n",
              "      <td>0.0</td>\n",
              "    </tr>\n",
              "    <tr>\n",
              "      <th>1</th>\n",
              "      <td>2018-01-01T00:00:00</td>\n",
              "      <td>PRCP</td>\n",
              "      <td>GHCND:US1NJBG0015</td>\n",
              "      <td>,,N,</td>\n",
              "      <td>0.0</td>\n",
              "    </tr>\n",
              "    <tr>\n",
              "      <th>2</th>\n",
              "      <td>2018-01-01T00:00:00</td>\n",
              "      <td>SNOW</td>\n",
              "      <td>GHCND:US1NJBG0015</td>\n",
              "      <td>,,N,</td>\n",
              "      <td>0.0</td>\n",
              "    </tr>\n",
              "    <tr>\n",
              "      <th>3</th>\n",
              "      <td>2018-01-01T00:00:00</td>\n",
              "      <td>PRCP</td>\n",
              "      <td>GHCND:US1NJBG0017</td>\n",
              "      <td>,,N,</td>\n",
              "      <td>0.0</td>\n",
              "    </tr>\n",
              "    <tr>\n",
              "      <th>4</th>\n",
              "      <td>2018-01-01T00:00:00</td>\n",
              "      <td>SNOW</td>\n",
              "      <td>GHCND:US1NJBG0017</td>\n",
              "      <td>,,N,</td>\n",
              "      <td>0.0</td>\n",
              "    </tr>\n",
              "  </tbody>\n",
              "</table>\n",
              "</div>"
            ],
            "text/plain": [
              "                  date datatype            station attributes  value\n",
              "0  2018-01-01T00:00:00     PRCP  GHCND:US1CTFR0039       ,,N,    0.0\n",
              "1  2018-01-01T00:00:00     PRCP  GHCND:US1NJBG0015       ,,N,    0.0\n",
              "2  2018-01-01T00:00:00     SNOW  GHCND:US1NJBG0015       ,,N,    0.0\n",
              "3  2018-01-01T00:00:00     PRCP  GHCND:US1NJBG0017       ,,N,    0.0\n",
              "4  2018-01-01T00:00:00     SNOW  GHCND:US1NJBG0017       ,,N,    0.0"
            ]
          },
          "metadata": {},
          "execution_count": 4
        }
      ]
    },
    {
      "cell_type": "code",
      "metadata": {
        "colab": {
          "base_uri": "https://localhost:8080/",
          "height": 206
        },
        "id": "B9vFwm7h0yPP",
        "outputId": "0b32f8d4-f2f9-4d53-a812-52f00ce99c32"
      },
      "source": [
        "station_infor.rename(columns={\"id\":\"station\"},inplace=True)\n",
        "station_infor.head()"
      ],
      "execution_count": 5,
      "outputs": [
        {
          "output_type": "execute_result",
          "data": {
            "text/html": [
              "<div>\n",
              "<style scoped>\n",
              "    .dataframe tbody tr th:only-of-type {\n",
              "        vertical-align: middle;\n",
              "    }\n",
              "\n",
              "    .dataframe tbody tr th {\n",
              "        vertical-align: top;\n",
              "    }\n",
              "\n",
              "    .dataframe thead th {\n",
              "        text-align: right;\n",
              "    }\n",
              "</style>\n",
              "<table border=\"1\" class=\"dataframe\">\n",
              "  <thead>\n",
              "    <tr style=\"text-align: right;\">\n",
              "      <th></th>\n",
              "      <th>station</th>\n",
              "      <th>name</th>\n",
              "      <th>latitude</th>\n",
              "      <th>longitude</th>\n",
              "      <th>elevation</th>\n",
              "    </tr>\n",
              "  </thead>\n",
              "  <tbody>\n",
              "    <tr>\n",
              "      <th>0</th>\n",
              "      <td>GHCND:US1CTFR0022</td>\n",
              "      <td>STAMFORD 2.6 SSW, CT US</td>\n",
              "      <td>41.064100</td>\n",
              "      <td>-73.577000</td>\n",
              "      <td>36.6</td>\n",
              "    </tr>\n",
              "    <tr>\n",
              "      <th>1</th>\n",
              "      <td>GHCND:US1CTFR0039</td>\n",
              "      <td>STAMFORD 4.2 S, CT US</td>\n",
              "      <td>41.037788</td>\n",
              "      <td>-73.568176</td>\n",
              "      <td>6.4</td>\n",
              "    </tr>\n",
              "    <tr>\n",
              "      <th>2</th>\n",
              "      <td>GHCND:US1NJBG0001</td>\n",
              "      <td>BERGENFIELD 0.3 SW, NJ US</td>\n",
              "      <td>40.921298</td>\n",
              "      <td>-74.001983</td>\n",
              "      <td>20.1</td>\n",
              "    </tr>\n",
              "    <tr>\n",
              "      <th>3</th>\n",
              "      <td>GHCND:US1NJBG0002</td>\n",
              "      <td>SADDLE BROOK TWP 0.6 E, NJ US</td>\n",
              "      <td>40.902694</td>\n",
              "      <td>-74.083358</td>\n",
              "      <td>16.8</td>\n",
              "    </tr>\n",
              "    <tr>\n",
              "      <th>4</th>\n",
              "      <td>GHCND:US1NJBG0003</td>\n",
              "      <td>TENAFLY 1.3 W, NJ US</td>\n",
              "      <td>40.914670</td>\n",
              "      <td>-73.977500</td>\n",
              "      <td>21.6</td>\n",
              "    </tr>\n",
              "  </tbody>\n",
              "</table>\n",
              "</div>"
            ],
            "text/plain": [
              "             station                           name  ...  longitude  elevation\n",
              "0  GHCND:US1CTFR0022        STAMFORD 2.6 SSW, CT US  ... -73.577000       36.6\n",
              "1  GHCND:US1CTFR0039          STAMFORD 4.2 S, CT US  ... -73.568176        6.4\n",
              "2  GHCND:US1NJBG0001      BERGENFIELD 0.3 SW, NJ US  ... -74.001983       20.1\n",
              "3  GHCND:US1NJBG0002  SADDLE BROOK TWP 0.6 E, NJ US  ... -74.083358       16.8\n",
              "4  GHCND:US1NJBG0003           TENAFLY 1.3 W, NJ US  ... -73.977500       21.6\n",
              "\n",
              "[5 rows x 5 columns]"
            ]
          },
          "metadata": {},
          "execution_count": 5
        }
      ]
    },
    {
      "cell_type": "code",
      "metadata": {
        "id": "jLf1dPp9nYIM"
      },
      "source": [
        "data = station_infor.merge(weather,on=\"station\",how='inner') \\\n",
        "                            .drop_duplicates([\"station\",\"datatype\"]).reset_index(drop=True)"
      ],
      "execution_count": 6,
      "outputs": []
    },
    {
      "cell_type": "code",
      "metadata": {
        "colab": {
          "base_uri": "https://localhost:8080/"
        },
        "id": "k37nJlP8z7dB",
        "outputId": "a1285120-d3c7-4ed1-88e4-028905f3968a"
      },
      "source": [
        "data.shape"
      ],
      "execution_count": 7,
      "outputs": [
        {
          "output_type": "execute_result",
          "data": {
            "text/plain": [
              "(633, 9)"
            ]
          },
          "metadata": {},
          "execution_count": 7
        }
      ]
    },
    {
      "cell_type": "code",
      "metadata": {
        "colab": {
          "base_uri": "https://localhost:8080/"
        },
        "id": "eNU5MD383DXr",
        "outputId": "5149a417-237c-40b9-dac1-57b1b83340b0"
      },
      "source": [
        "snow_avg= data.query('datatype==\"SNOW\" and name.str.contains(\"NJ US\")',engine=\"python\")\n",
        "snow_avg.elevation.mean()"
      ],
      "execution_count": 8,
      "outputs": [
        {
          "output_type": "execute_result",
          "data": {
            "text/plain": [
              "58.348484848484865"
            ]
          },
          "metadata": {},
          "execution_count": 8
        }
      ]
    },
    {
      "cell_type": "markdown",
      "metadata": {
        "id": "-un6gfXmJ-0-"
      },
      "source": [
        "**2** Load the fb dataset, then:\\\n",
        "•Calculate the percentage change between that and and last day in volumn (pct_change method)\\\n",
        "•Sort the dataframe by percentage change then get five days that have the biggest change. "
      ]
    },
    {
      "cell_type": "code",
      "metadata": {
        "id": "TUzfQ_2qHwdd"
      },
      "source": [
        "fb_2018 = pd.read_csv(\"/content/fb_2018.csv\")"
      ],
      "execution_count": 9,
      "outputs": []
    },
    {
      "cell_type": "code",
      "metadata": {
        "colab": {
          "base_uri": "https://localhost:8080/",
          "height": 424
        },
        "id": "NvgAEl52BH9F",
        "outputId": "2ec38d25-7206-4538-d380-328dadce96a2"
      },
      "source": [
        "fb_p = fb_2018.assign(p_change = lambda x: x.volume.pct_change())\n",
        "fb_p"
      ],
      "execution_count": 10,
      "outputs": [
        {
          "output_type": "execute_result",
          "data": {
            "text/html": [
              "<div>\n",
              "<style scoped>\n",
              "    .dataframe tbody tr th:only-of-type {\n",
              "        vertical-align: middle;\n",
              "    }\n",
              "\n",
              "    .dataframe tbody tr th {\n",
              "        vertical-align: top;\n",
              "    }\n",
              "\n",
              "    .dataframe thead th {\n",
              "        text-align: right;\n",
              "    }\n",
              "</style>\n",
              "<table border=\"1\" class=\"dataframe\">\n",
              "  <thead>\n",
              "    <tr style=\"text-align: right;\">\n",
              "      <th></th>\n",
              "      <th>date</th>\n",
              "      <th>open</th>\n",
              "      <th>high</th>\n",
              "      <th>low</th>\n",
              "      <th>close</th>\n",
              "      <th>volume</th>\n",
              "      <th>p_change</th>\n",
              "    </tr>\n",
              "  </thead>\n",
              "  <tbody>\n",
              "    <tr>\n",
              "      <th>0</th>\n",
              "      <td>2018-01-02</td>\n",
              "      <td>177.68</td>\n",
              "      <td>181.58</td>\n",
              "      <td>177.5500</td>\n",
              "      <td>181.42</td>\n",
              "      <td>18151903</td>\n",
              "      <td>NaN</td>\n",
              "    </tr>\n",
              "    <tr>\n",
              "      <th>1</th>\n",
              "      <td>2018-01-03</td>\n",
              "      <td>181.88</td>\n",
              "      <td>184.78</td>\n",
              "      <td>181.3300</td>\n",
              "      <td>184.67</td>\n",
              "      <td>16886563</td>\n",
              "      <td>-0.069708</td>\n",
              "    </tr>\n",
              "    <tr>\n",
              "      <th>2</th>\n",
              "      <td>2018-01-04</td>\n",
              "      <td>184.90</td>\n",
              "      <td>186.21</td>\n",
              "      <td>184.0996</td>\n",
              "      <td>184.33</td>\n",
              "      <td>13880896</td>\n",
              "      <td>-0.177992</td>\n",
              "    </tr>\n",
              "    <tr>\n",
              "      <th>3</th>\n",
              "      <td>2018-01-05</td>\n",
              "      <td>185.59</td>\n",
              "      <td>186.90</td>\n",
              "      <td>184.9300</td>\n",
              "      <td>186.85</td>\n",
              "      <td>13574535</td>\n",
              "      <td>-0.022071</td>\n",
              "    </tr>\n",
              "    <tr>\n",
              "      <th>4</th>\n",
              "      <td>2018-01-08</td>\n",
              "      <td>187.20</td>\n",
              "      <td>188.90</td>\n",
              "      <td>186.3300</td>\n",
              "      <td>188.28</td>\n",
              "      <td>17994726</td>\n",
              "      <td>0.325624</td>\n",
              "    </tr>\n",
              "    <tr>\n",
              "      <th>...</th>\n",
              "      <td>...</td>\n",
              "      <td>...</td>\n",
              "      <td>...</td>\n",
              "      <td>...</td>\n",
              "      <td>...</td>\n",
              "      <td>...</td>\n",
              "      <td>...</td>\n",
              "    </tr>\n",
              "    <tr>\n",
              "      <th>246</th>\n",
              "      <td>2018-12-24</td>\n",
              "      <td>123.10</td>\n",
              "      <td>129.74</td>\n",
              "      <td>123.0200</td>\n",
              "      <td>124.06</td>\n",
              "      <td>22066002</td>\n",
              "      <td>-0.612207</td>\n",
              "    </tr>\n",
              "    <tr>\n",
              "      <th>247</th>\n",
              "      <td>2018-12-26</td>\n",
              "      <td>126.00</td>\n",
              "      <td>134.24</td>\n",
              "      <td>125.8900</td>\n",
              "      <td>134.18</td>\n",
              "      <td>39723370</td>\n",
              "      <td>0.800207</td>\n",
              "    </tr>\n",
              "    <tr>\n",
              "      <th>248</th>\n",
              "      <td>2018-12-27</td>\n",
              "      <td>132.44</td>\n",
              "      <td>134.99</td>\n",
              "      <td>129.6700</td>\n",
              "      <td>134.52</td>\n",
              "      <td>31202509</td>\n",
              "      <td>-0.214505</td>\n",
              "    </tr>\n",
              "    <tr>\n",
              "      <th>249</th>\n",
              "      <td>2018-12-28</td>\n",
              "      <td>135.34</td>\n",
              "      <td>135.92</td>\n",
              "      <td>132.2000</td>\n",
              "      <td>133.20</td>\n",
              "      <td>22627569</td>\n",
              "      <td>-0.274816</td>\n",
              "    </tr>\n",
              "    <tr>\n",
              "      <th>250</th>\n",
              "      <td>2018-12-31</td>\n",
              "      <td>134.45</td>\n",
              "      <td>134.64</td>\n",
              "      <td>129.9500</td>\n",
              "      <td>131.09</td>\n",
              "      <td>24625308</td>\n",
              "      <td>0.088288</td>\n",
              "    </tr>\n",
              "  </tbody>\n",
              "</table>\n",
              "<p>251 rows × 7 columns</p>\n",
              "</div>"
            ],
            "text/plain": [
              "           date    open    high       low   close    volume  p_change\n",
              "0    2018-01-02  177.68  181.58  177.5500  181.42  18151903       NaN\n",
              "1    2018-01-03  181.88  184.78  181.3300  184.67  16886563 -0.069708\n",
              "2    2018-01-04  184.90  186.21  184.0996  184.33  13880896 -0.177992\n",
              "3    2018-01-05  185.59  186.90  184.9300  186.85  13574535 -0.022071\n",
              "4    2018-01-08  187.20  188.90  186.3300  188.28  17994726  0.325624\n",
              "..          ...     ...     ...       ...     ...       ...       ...\n",
              "246  2018-12-24  123.10  129.74  123.0200  124.06  22066002 -0.612207\n",
              "247  2018-12-26  126.00  134.24  125.8900  134.18  39723370  0.800207\n",
              "248  2018-12-27  132.44  134.99  129.6700  134.52  31202509 -0.214505\n",
              "249  2018-12-28  135.34  135.92  132.2000  133.20  22627569 -0.274816\n",
              "250  2018-12-31  134.45  134.64  129.9500  131.09  24625308  0.088288\n",
              "\n",
              "[251 rows x 7 columns]"
            ]
          },
          "metadata": {},
          "execution_count": 10
        }
      ]
    },
    {
      "cell_type": "code",
      "metadata": {
        "colab": {
          "base_uri": "https://localhost:8080/",
          "height": 206
        },
        "id": "RIxb21olJ32e",
        "outputId": "d7a994a3-3ea2-4c1b-a34d-e30265aeec14"
      },
      "source": [
        "fb_2018['shift_vol']=fb_2018.volume.shift(1)\n",
        "fb_2018.head()"
      ],
      "execution_count": 11,
      "outputs": [
        {
          "output_type": "execute_result",
          "data": {
            "text/html": [
              "<div>\n",
              "<style scoped>\n",
              "    .dataframe tbody tr th:only-of-type {\n",
              "        vertical-align: middle;\n",
              "    }\n",
              "\n",
              "    .dataframe tbody tr th {\n",
              "        vertical-align: top;\n",
              "    }\n",
              "\n",
              "    .dataframe thead th {\n",
              "        text-align: right;\n",
              "    }\n",
              "</style>\n",
              "<table border=\"1\" class=\"dataframe\">\n",
              "  <thead>\n",
              "    <tr style=\"text-align: right;\">\n",
              "      <th></th>\n",
              "      <th>date</th>\n",
              "      <th>open</th>\n",
              "      <th>high</th>\n",
              "      <th>low</th>\n",
              "      <th>close</th>\n",
              "      <th>volume</th>\n",
              "      <th>shift_vol</th>\n",
              "    </tr>\n",
              "  </thead>\n",
              "  <tbody>\n",
              "    <tr>\n",
              "      <th>0</th>\n",
              "      <td>2018-01-02</td>\n",
              "      <td>177.68</td>\n",
              "      <td>181.58</td>\n",
              "      <td>177.5500</td>\n",
              "      <td>181.42</td>\n",
              "      <td>18151903</td>\n",
              "      <td>NaN</td>\n",
              "    </tr>\n",
              "    <tr>\n",
              "      <th>1</th>\n",
              "      <td>2018-01-03</td>\n",
              "      <td>181.88</td>\n",
              "      <td>184.78</td>\n",
              "      <td>181.3300</td>\n",
              "      <td>184.67</td>\n",
              "      <td>16886563</td>\n",
              "      <td>18151903.0</td>\n",
              "    </tr>\n",
              "    <tr>\n",
              "      <th>2</th>\n",
              "      <td>2018-01-04</td>\n",
              "      <td>184.90</td>\n",
              "      <td>186.21</td>\n",
              "      <td>184.0996</td>\n",
              "      <td>184.33</td>\n",
              "      <td>13880896</td>\n",
              "      <td>16886563.0</td>\n",
              "    </tr>\n",
              "    <tr>\n",
              "      <th>3</th>\n",
              "      <td>2018-01-05</td>\n",
              "      <td>185.59</td>\n",
              "      <td>186.90</td>\n",
              "      <td>184.9300</td>\n",
              "      <td>186.85</td>\n",
              "      <td>13574535</td>\n",
              "      <td>13880896.0</td>\n",
              "    </tr>\n",
              "    <tr>\n",
              "      <th>4</th>\n",
              "      <td>2018-01-08</td>\n",
              "      <td>187.20</td>\n",
              "      <td>188.90</td>\n",
              "      <td>186.3300</td>\n",
              "      <td>188.28</td>\n",
              "      <td>17994726</td>\n",
              "      <td>13574535.0</td>\n",
              "    </tr>\n",
              "  </tbody>\n",
              "</table>\n",
              "</div>"
            ],
            "text/plain": [
              "         date    open    high       low   close    volume   shift_vol\n",
              "0  2018-01-02  177.68  181.58  177.5500  181.42  18151903         NaN\n",
              "1  2018-01-03  181.88  184.78  181.3300  184.67  16886563  18151903.0\n",
              "2  2018-01-04  184.90  186.21  184.0996  184.33  13880896  16886563.0\n",
              "3  2018-01-05  185.59  186.90  184.9300  186.85  13574535  13880896.0\n",
              "4  2018-01-08  187.20  188.90  186.3300  188.28  17994726  13574535.0"
            ]
          },
          "metadata": {},
          "execution_count": 11
        }
      ]
    },
    {
      "cell_type": "code",
      "metadata": {
        "colab": {
          "base_uri": "https://localhost:8080/",
          "height": 206
        },
        "id": "cbNVGp-qHoy2",
        "outputId": "05f6f883-0737-427f-e339-1460849661ff"
      },
      "source": [
        "fb_p2 = fb_2018.assign(p_change = lambda x: (x.volume.sub(x.shift_vol)).div(x.shift_vol))\n",
        "fb_p2.head()"
      ],
      "execution_count": 12,
      "outputs": [
        {
          "output_type": "execute_result",
          "data": {
            "text/html": [
              "<div>\n",
              "<style scoped>\n",
              "    .dataframe tbody tr th:only-of-type {\n",
              "        vertical-align: middle;\n",
              "    }\n",
              "\n",
              "    .dataframe tbody tr th {\n",
              "        vertical-align: top;\n",
              "    }\n",
              "\n",
              "    .dataframe thead th {\n",
              "        text-align: right;\n",
              "    }\n",
              "</style>\n",
              "<table border=\"1\" class=\"dataframe\">\n",
              "  <thead>\n",
              "    <tr style=\"text-align: right;\">\n",
              "      <th></th>\n",
              "      <th>date</th>\n",
              "      <th>open</th>\n",
              "      <th>high</th>\n",
              "      <th>low</th>\n",
              "      <th>close</th>\n",
              "      <th>volume</th>\n",
              "      <th>shift_vol</th>\n",
              "      <th>p_change</th>\n",
              "    </tr>\n",
              "  </thead>\n",
              "  <tbody>\n",
              "    <tr>\n",
              "      <th>0</th>\n",
              "      <td>2018-01-02</td>\n",
              "      <td>177.68</td>\n",
              "      <td>181.58</td>\n",
              "      <td>177.5500</td>\n",
              "      <td>181.42</td>\n",
              "      <td>18151903</td>\n",
              "      <td>NaN</td>\n",
              "      <td>NaN</td>\n",
              "    </tr>\n",
              "    <tr>\n",
              "      <th>1</th>\n",
              "      <td>2018-01-03</td>\n",
              "      <td>181.88</td>\n",
              "      <td>184.78</td>\n",
              "      <td>181.3300</td>\n",
              "      <td>184.67</td>\n",
              "      <td>16886563</td>\n",
              "      <td>18151903.0</td>\n",
              "      <td>-0.069708</td>\n",
              "    </tr>\n",
              "    <tr>\n",
              "      <th>2</th>\n",
              "      <td>2018-01-04</td>\n",
              "      <td>184.90</td>\n",
              "      <td>186.21</td>\n",
              "      <td>184.0996</td>\n",
              "      <td>184.33</td>\n",
              "      <td>13880896</td>\n",
              "      <td>16886563.0</td>\n",
              "      <td>-0.177992</td>\n",
              "    </tr>\n",
              "    <tr>\n",
              "      <th>3</th>\n",
              "      <td>2018-01-05</td>\n",
              "      <td>185.59</td>\n",
              "      <td>186.90</td>\n",
              "      <td>184.9300</td>\n",
              "      <td>186.85</td>\n",
              "      <td>13574535</td>\n",
              "      <td>13880896.0</td>\n",
              "      <td>-0.022071</td>\n",
              "    </tr>\n",
              "    <tr>\n",
              "      <th>4</th>\n",
              "      <td>2018-01-08</td>\n",
              "      <td>187.20</td>\n",
              "      <td>188.90</td>\n",
              "      <td>186.3300</td>\n",
              "      <td>188.28</td>\n",
              "      <td>17994726</td>\n",
              "      <td>13574535.0</td>\n",
              "      <td>0.325624</td>\n",
              "    </tr>\n",
              "  </tbody>\n",
              "</table>\n",
              "</div>"
            ],
            "text/plain": [
              "         date    open    high       low   close    volume   shift_vol  p_change\n",
              "0  2018-01-02  177.68  181.58  177.5500  181.42  18151903         NaN       NaN\n",
              "1  2018-01-03  181.88  184.78  181.3300  184.67  16886563  18151903.0 -0.069708\n",
              "2  2018-01-04  184.90  186.21  184.0996  184.33  13880896  16886563.0 -0.177992\n",
              "3  2018-01-05  185.59  186.90  184.9300  186.85  13574535  13880896.0 -0.022071\n",
              "4  2018-01-08  187.20  188.90  186.3300  188.28  17994726  13574535.0  0.325624"
            ]
          },
          "metadata": {},
          "execution_count": 12
        }
      ]
    },
    {
      "cell_type": "code",
      "metadata": {
        "id": "DLCegpW4c4tH",
        "outputId": "04a7326d-8c4f-43bd-f7a3-77fe85457f54",
        "colab": {
          "base_uri": "https://localhost:8080/",
          "height": 206
        }
      },
      "source": [
        "fb_p2.sort_values(by=(\"p_change\"),ascending=False).head()"
      ],
      "execution_count": 17,
      "outputs": [
        {
          "output_type": "execute_result",
          "data": {
            "text/html": [
              "<div>\n",
              "<style scoped>\n",
              "    .dataframe tbody tr th:only-of-type {\n",
              "        vertical-align: middle;\n",
              "    }\n",
              "\n",
              "    .dataframe tbody tr th {\n",
              "        vertical-align: top;\n",
              "    }\n",
              "\n",
              "    .dataframe thead th {\n",
              "        text-align: right;\n",
              "    }\n",
              "</style>\n",
              "<table border=\"1\" class=\"dataframe\">\n",
              "  <thead>\n",
              "    <tr style=\"text-align: right;\">\n",
              "      <th></th>\n",
              "      <th>date</th>\n",
              "      <th>open</th>\n",
              "      <th>high</th>\n",
              "      <th>low</th>\n",
              "      <th>close</th>\n",
              "      <th>volume</th>\n",
              "      <th>shift_vol</th>\n",
              "      <th>p_change</th>\n",
              "    </tr>\n",
              "  </thead>\n",
              "  <tbody>\n",
              "    <tr>\n",
              "      <th>8</th>\n",
              "      <td>2018-01-12</td>\n",
              "      <td>178.06</td>\n",
              "      <td>181.48</td>\n",
              "      <td>177.40</td>\n",
              "      <td>179.37</td>\n",
              "      <td>77551299</td>\n",
              "      <td>9588587.0</td>\n",
              "      <td>7.087876</td>\n",
              "    </tr>\n",
              "    <tr>\n",
              "      <th>52</th>\n",
              "      <td>2018-03-19</td>\n",
              "      <td>177.01</td>\n",
              "      <td>177.17</td>\n",
              "      <td>170.06</td>\n",
              "      <td>172.56</td>\n",
              "      <td>88140060</td>\n",
              "      <td>24403438.0</td>\n",
              "      <td>2.611789</td>\n",
              "    </tr>\n",
              "    <tr>\n",
              "      <th>142</th>\n",
              "      <td>2018-07-26</td>\n",
              "      <td>174.89</td>\n",
              "      <td>180.13</td>\n",
              "      <td>173.75</td>\n",
              "      <td>176.26</td>\n",
              "      <td>169803668</td>\n",
              "      <td>64592585.0</td>\n",
              "      <td>1.628841</td>\n",
              "    </tr>\n",
              "    <tr>\n",
              "      <th>182</th>\n",
              "      <td>2018-09-21</td>\n",
              "      <td>166.64</td>\n",
              "      <td>167.25</td>\n",
              "      <td>162.81</td>\n",
              "      <td>162.93</td>\n",
              "      <td>45994800</td>\n",
              "      <td>18936038.0</td>\n",
              "      <td>1.428956</td>\n",
              "    </tr>\n",
              "    <tr>\n",
              "      <th>57</th>\n",
              "      <td>2018-03-26</td>\n",
              "      <td>160.82</td>\n",
              "      <td>161.10</td>\n",
              "      <td>149.02</td>\n",
              "      <td>160.06</td>\n",
              "      <td>126116634</td>\n",
              "      <td>53609706.0</td>\n",
              "      <td>1.352496</td>\n",
              "    </tr>\n",
              "  </tbody>\n",
              "</table>\n",
              "</div>"
            ],
            "text/plain": [
              "           date    open    high  ...     volume   shift_vol  p_change\n",
              "8    2018-01-12  178.06  181.48  ...   77551299   9588587.0  7.087876\n",
              "52   2018-03-19  177.01  177.17  ...   88140060  24403438.0  2.611789\n",
              "142  2018-07-26  174.89  180.13  ...  169803668  64592585.0  1.628841\n",
              "182  2018-09-21  166.64  167.25  ...   45994800  18936038.0  1.428956\n",
              "57   2018-03-26  160.82  161.10  ...  126116634  53609706.0  1.352496\n",
              "\n",
              "[5 rows x 8 columns]"
            ]
          },
          "metadata": {},
          "execution_count": 17
        }
      ]
    },
    {
      "cell_type": "markdown",
      "metadata": {
        "id": "AgicJ5YMLEN5"
      },
      "source": [
        "**3** Create bins for each full number of earthquake magnitude (for instance, the first bin is (0, 1], the second is (1, 2], and so on) with the ml magnitude type and count how many are in each bin."
      ]
    },
    {
      "cell_type": "code",
      "metadata": {
        "id": "CGMkS4qtKrcX",
        "outputId": "73b674b0-30a7-4351-bc61-879b9b071f58",
        "colab": {
          "base_uri": "https://localhost:8080/",
          "height": 573
        }
      },
      "source": [
        "earthquakes = pd.read_csv(\"earthquakes.csv\")\n",
        "earthquakes.head()"
      ],
      "execution_count": 18,
      "outputs": [
        {
          "output_type": "execute_result",
          "data": {
            "text/html": [
              "<div>\n",
              "<style scoped>\n",
              "    .dataframe tbody tr th:only-of-type {\n",
              "        vertical-align: middle;\n",
              "    }\n",
              "\n",
              "    .dataframe tbody tr th {\n",
              "        vertical-align: top;\n",
              "    }\n",
              "\n",
              "    .dataframe thead th {\n",
              "        text-align: right;\n",
              "    }\n",
              "</style>\n",
              "<table border=\"1\" class=\"dataframe\">\n",
              "  <thead>\n",
              "    <tr style=\"text-align: right;\">\n",
              "      <th></th>\n",
              "      <th>alert</th>\n",
              "      <th>cdi</th>\n",
              "      <th>code</th>\n",
              "      <th>detail</th>\n",
              "      <th>dmin</th>\n",
              "      <th>felt</th>\n",
              "      <th>gap</th>\n",
              "      <th>ids</th>\n",
              "      <th>mag</th>\n",
              "      <th>magType</th>\n",
              "      <th>mmi</th>\n",
              "      <th>net</th>\n",
              "      <th>nst</th>\n",
              "      <th>place</th>\n",
              "      <th>rms</th>\n",
              "      <th>sig</th>\n",
              "      <th>sources</th>\n",
              "      <th>status</th>\n",
              "      <th>time</th>\n",
              "      <th>title</th>\n",
              "      <th>tsunami</th>\n",
              "      <th>type</th>\n",
              "      <th>types</th>\n",
              "      <th>tz</th>\n",
              "      <th>updated</th>\n",
              "      <th>url</th>\n",
              "    </tr>\n",
              "  </thead>\n",
              "  <tbody>\n",
              "    <tr>\n",
              "      <th>0</th>\n",
              "      <td>NaN</td>\n",
              "      <td>NaN</td>\n",
              "      <td>37389218</td>\n",
              "      <td>https://earthquake.usgs.gov/fdsnws/event/1/que...</td>\n",
              "      <td>0.008693</td>\n",
              "      <td>NaN</td>\n",
              "      <td>85.0</td>\n",
              "      <td>,ci37389218,</td>\n",
              "      <td>1.35</td>\n",
              "      <td>ml</td>\n",
              "      <td>NaN</td>\n",
              "      <td>ci</td>\n",
              "      <td>26.0</td>\n",
              "      <td>9km NE of Aguanga, CA</td>\n",
              "      <td>0.19</td>\n",
              "      <td>28</td>\n",
              "      <td>,ci,</td>\n",
              "      <td>automatic</td>\n",
              "      <td>1539475168010</td>\n",
              "      <td>M 1.4 - 9km NE of Aguanga, CA</td>\n",
              "      <td>0</td>\n",
              "      <td>earthquake</td>\n",
              "      <td>,geoserve,nearby-cities,origin,phase-data,</td>\n",
              "      <td>-480.0</td>\n",
              "      <td>1539475395144</td>\n",
              "      <td>https://earthquake.usgs.gov/earthquakes/eventp...</td>\n",
              "    </tr>\n",
              "    <tr>\n",
              "      <th>1</th>\n",
              "      <td>NaN</td>\n",
              "      <td>NaN</td>\n",
              "      <td>37389202</td>\n",
              "      <td>https://earthquake.usgs.gov/fdsnws/event/1/que...</td>\n",
              "      <td>0.020030</td>\n",
              "      <td>NaN</td>\n",
              "      <td>79.0</td>\n",
              "      <td>,ci37389202,</td>\n",
              "      <td>1.29</td>\n",
              "      <td>ml</td>\n",
              "      <td>NaN</td>\n",
              "      <td>ci</td>\n",
              "      <td>20.0</td>\n",
              "      <td>9km NE of Aguanga, CA</td>\n",
              "      <td>0.29</td>\n",
              "      <td>26</td>\n",
              "      <td>,ci,</td>\n",
              "      <td>automatic</td>\n",
              "      <td>1539475129610</td>\n",
              "      <td>M 1.3 - 9km NE of Aguanga, CA</td>\n",
              "      <td>0</td>\n",
              "      <td>earthquake</td>\n",
              "      <td>,geoserve,nearby-cities,origin,phase-data,</td>\n",
              "      <td>-480.0</td>\n",
              "      <td>1539475253925</td>\n",
              "      <td>https://earthquake.usgs.gov/earthquakes/eventp...</td>\n",
              "    </tr>\n",
              "    <tr>\n",
              "      <th>2</th>\n",
              "      <td>NaN</td>\n",
              "      <td>4.4</td>\n",
              "      <td>37389194</td>\n",
              "      <td>https://earthquake.usgs.gov/fdsnws/event/1/que...</td>\n",
              "      <td>0.021370</td>\n",
              "      <td>28.0</td>\n",
              "      <td>21.0</td>\n",
              "      <td>,ci37389194,</td>\n",
              "      <td>3.42</td>\n",
              "      <td>ml</td>\n",
              "      <td>NaN</td>\n",
              "      <td>ci</td>\n",
              "      <td>111.0</td>\n",
              "      <td>8km NE of Aguanga, CA</td>\n",
              "      <td>0.22</td>\n",
              "      <td>192</td>\n",
              "      <td>,ci,</td>\n",
              "      <td>automatic</td>\n",
              "      <td>1539475062610</td>\n",
              "      <td>M 3.4 - 8km NE of Aguanga, CA</td>\n",
              "      <td>0</td>\n",
              "      <td>earthquake</td>\n",
              "      <td>,dyfi,focal-mechanism,geoserve,nearby-cities,o...</td>\n",
              "      <td>-480.0</td>\n",
              "      <td>1539536756176</td>\n",
              "      <td>https://earthquake.usgs.gov/earthquakes/eventp...</td>\n",
              "    </tr>\n",
              "    <tr>\n",
              "      <th>3</th>\n",
              "      <td>NaN</td>\n",
              "      <td>NaN</td>\n",
              "      <td>37389186</td>\n",
              "      <td>https://earthquake.usgs.gov/fdsnws/event/1/que...</td>\n",
              "      <td>0.026180</td>\n",
              "      <td>NaN</td>\n",
              "      <td>39.0</td>\n",
              "      <td>,ci37389186,</td>\n",
              "      <td>0.44</td>\n",
              "      <td>ml</td>\n",
              "      <td>NaN</td>\n",
              "      <td>ci</td>\n",
              "      <td>26.0</td>\n",
              "      <td>9km NE of Aguanga, CA</td>\n",
              "      <td>0.17</td>\n",
              "      <td>3</td>\n",
              "      <td>,ci,</td>\n",
              "      <td>automatic</td>\n",
              "      <td>1539474978070</td>\n",
              "      <td>M 0.4 - 9km NE of Aguanga, CA</td>\n",
              "      <td>0</td>\n",
              "      <td>earthquake</td>\n",
              "      <td>,geoserve,nearby-cities,origin,phase-data,</td>\n",
              "      <td>-480.0</td>\n",
              "      <td>1539475196167</td>\n",
              "      <td>https://earthquake.usgs.gov/earthquakes/eventp...</td>\n",
              "    </tr>\n",
              "    <tr>\n",
              "      <th>4</th>\n",
              "      <td>NaN</td>\n",
              "      <td>NaN</td>\n",
              "      <td>73096941</td>\n",
              "      <td>https://earthquake.usgs.gov/fdsnws/event/1/que...</td>\n",
              "      <td>0.077990</td>\n",
              "      <td>NaN</td>\n",
              "      <td>192.0</td>\n",
              "      <td>,nc73096941,</td>\n",
              "      <td>2.16</td>\n",
              "      <td>md</td>\n",
              "      <td>NaN</td>\n",
              "      <td>nc</td>\n",
              "      <td>18.0</td>\n",
              "      <td>10km NW of Avenal, CA</td>\n",
              "      <td>0.05</td>\n",
              "      <td>72</td>\n",
              "      <td>,nc,</td>\n",
              "      <td>automatic</td>\n",
              "      <td>1539474716050</td>\n",
              "      <td>M 2.2 - 10km NW of Avenal, CA</td>\n",
              "      <td>0</td>\n",
              "      <td>earthquake</td>\n",
              "      <td>,geoserve,nearby-cities,origin,phase-data,scit...</td>\n",
              "      <td>-480.0</td>\n",
              "      <td>1539477547926</td>\n",
              "      <td>https://earthquake.usgs.gov/earthquakes/eventp...</td>\n",
              "    </tr>\n",
              "  </tbody>\n",
              "</table>\n",
              "</div>"
            ],
            "text/plain": [
              "  alert  cdi  ...        updated                                                url\n",
              "0   NaN  NaN  ...  1539475395144  https://earthquake.usgs.gov/earthquakes/eventp...\n",
              "1   NaN  NaN  ...  1539475253925  https://earthquake.usgs.gov/earthquakes/eventp...\n",
              "2   NaN  4.4  ...  1539536756176  https://earthquake.usgs.gov/earthquakes/eventp...\n",
              "3   NaN  NaN  ...  1539475196167  https://earthquake.usgs.gov/earthquakes/eventp...\n",
              "4   NaN  NaN  ...  1539477547926  https://earthquake.usgs.gov/earthquakes/eventp...\n",
              "\n",
              "[5 rows x 26 columns]"
            ]
          },
          "metadata": {},
          "execution_count": 18
        }
      ]
    },
    {
      "cell_type": "code",
      "metadata": {
        "id": "Dka50XJfOCEe",
        "outputId": "4470c7ef-f47f-4c1a-ecfe-9ecd19031d51",
        "colab": {
          "base_uri": "https://localhost:8080/"
        }
      },
      "source": [
        "mag_ml = earthquakes[earthquakes.magType==\"ml\"]\n",
        "earthquakes = earthquakes.assign(mag_bin = pd.cut(mag_ml.mag,bins=5,labels=[\"nor\",\"low\",\"med\",\"high\",\"dangerous\"]))\n",
        "earthquakes.mag_bin.value_counts()"
      ],
      "execution_count": 24,
      "outputs": [
        {
          "output_type": "execute_result",
          "data": {
            "text/plain": [
              "low          2990\n",
              "med          2921\n",
              "nor           509\n",
              "high          372\n",
              "dangerous      11\n",
              "Name: mag_bin, dtype: int64"
            ]
          },
          "metadata": {},
          "execution_count": 24
        }
      ]
    },
    {
      "cell_type": "markdown",
      "metadata": {
        "id": "zAlRk2KKLe41"
      },
      "source": [
        "**4** Load the dataset weather_by_station then:\\\n",
        "•Calculate the mean value each station recorded snow per month.\\\n",
        "•Count the number of times each station recorded snow per month."
      ]
    },
    {
      "cell_type": "code",
      "metadata": {
        "id": "zqfon9HrLg8h"
      },
      "source": [
        "weather_by_station = pd.read_csv(\"/content/weather_by_station.csv\")"
      ],
      "execution_count": 25,
      "outputs": []
    },
    {
      "cell_type": "code",
      "metadata": {
        "id": "aCwUDsYVTDwu",
        "outputId": "86e4473a-0d2d-4766-be26-df31a2f663b1",
        "colab": {
          "base_uri": "https://localhost:8080/",
          "height": 206
        }
      },
      "source": [
        "weather_by_station.head()"
      ],
      "execution_count": 26,
      "outputs": [
        {
          "output_type": "execute_result",
          "data": {
            "text/html": [
              "<div>\n",
              "<style scoped>\n",
              "    .dataframe tbody tr th:only-of-type {\n",
              "        vertical-align: middle;\n",
              "    }\n",
              "\n",
              "    .dataframe tbody tr th {\n",
              "        vertical-align: top;\n",
              "    }\n",
              "\n",
              "    .dataframe thead th {\n",
              "        text-align: right;\n",
              "    }\n",
              "</style>\n",
              "<table border=\"1\" class=\"dataframe\">\n",
              "  <thead>\n",
              "    <tr style=\"text-align: right;\">\n",
              "      <th></th>\n",
              "      <th>date</th>\n",
              "      <th>datatype</th>\n",
              "      <th>station</th>\n",
              "      <th>value</th>\n",
              "      <th>station_name</th>\n",
              "    </tr>\n",
              "  </thead>\n",
              "  <tbody>\n",
              "    <tr>\n",
              "      <th>0</th>\n",
              "      <td>2018-01-01</td>\n",
              "      <td>PRCP</td>\n",
              "      <td>GHCND:US1CTFR0039</td>\n",
              "      <td>0.0</td>\n",
              "      <td>STAMFORD 4.2 S, CT US</td>\n",
              "    </tr>\n",
              "    <tr>\n",
              "      <th>1</th>\n",
              "      <td>2018-01-01</td>\n",
              "      <td>PRCP</td>\n",
              "      <td>GHCND:US1NJBG0015</td>\n",
              "      <td>0.0</td>\n",
              "      <td>NORTH ARLINGTON 0.7 WNW, NJ US</td>\n",
              "    </tr>\n",
              "    <tr>\n",
              "      <th>2</th>\n",
              "      <td>2018-01-01</td>\n",
              "      <td>SNOW</td>\n",
              "      <td>GHCND:US1NJBG0015</td>\n",
              "      <td>0.0</td>\n",
              "      <td>NORTH ARLINGTON 0.7 WNW, NJ US</td>\n",
              "    </tr>\n",
              "    <tr>\n",
              "      <th>3</th>\n",
              "      <td>2018-01-01</td>\n",
              "      <td>PRCP</td>\n",
              "      <td>GHCND:US1NJBG0017</td>\n",
              "      <td>0.0</td>\n",
              "      <td>GLEN ROCK 0.7 SSE, NJ US</td>\n",
              "    </tr>\n",
              "    <tr>\n",
              "      <th>4</th>\n",
              "      <td>2018-01-01</td>\n",
              "      <td>SNOW</td>\n",
              "      <td>GHCND:US1NJBG0017</td>\n",
              "      <td>0.0</td>\n",
              "      <td>GLEN ROCK 0.7 SSE, NJ US</td>\n",
              "    </tr>\n",
              "  </tbody>\n",
              "</table>\n",
              "</div>"
            ],
            "text/plain": [
              "         date datatype  ... value                    station_name\n",
              "0  2018-01-01     PRCP  ...   0.0           STAMFORD 4.2 S, CT US\n",
              "1  2018-01-01     PRCP  ...   0.0  NORTH ARLINGTON 0.7 WNW, NJ US\n",
              "2  2018-01-01     SNOW  ...   0.0  NORTH ARLINGTON 0.7 WNW, NJ US\n",
              "3  2018-01-01     PRCP  ...   0.0        GLEN ROCK 0.7 SSE, NJ US\n",
              "4  2018-01-01     SNOW  ...   0.0        GLEN ROCK 0.7 SSE, NJ US\n",
              "\n",
              "[5 rows x 5 columns]"
            ]
          },
          "metadata": {},
          "execution_count": 26
        }
      ]
    },
    {
      "cell_type": "code",
      "metadata": {
        "id": "AawVhRerTMQ7"
      },
      "source": [
        "weather_by_station = weather_by_station.assign(month )"
      ],
      "execution_count": null,
      "outputs": []
    },
    {
      "cell_type": "code",
      "metadata": {
        "id": "OFe4ORouQ3Wj"
      },
      "source": [
        "group = weather_by_station.groupby"
      ],
      "execution_count": null,
      "outputs": []
    }
  ]
}