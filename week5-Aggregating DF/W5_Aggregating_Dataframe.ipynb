{
  "nbformat": 4,
  "nbformat_minor": 0,
  "metadata": {
    "colab": {
      "name": "W5-Aggregating Dataframe.ipynb",
      "provenance": []
    },
    "kernelspec": {
      "name": "python3",
      "display_name": "Python 3"
    },
    "language_info": {
      "name": "python"
    }
  },
  "cells": [
    {
      "cell_type": "code",
      "metadata": {
        "id": "Z86Q1NdVJK-F"
      },
      "source": [
        "import pandas as pd\n",
        "import numpy as np"
      ],
      "execution_count": null,
      "outputs": []
    },
    {
      "cell_type": "code",
      "metadata": {
        "id": "G7roaDQbmz0W"
      },
      "source": [
        "station_infor = pd.read_csv(\"/content/weather_stations.csv\")\n",
        "weather = pd.read_csv(\"/content/nyc_weather_2018.csv\")"
      ],
      "execution_count": null,
      "outputs": []
    },
    {
      "cell_type": "code",
      "metadata": {
        "colab": {
          "base_uri": "https://localhost:8080/",
          "height": 204
        },
        "id": "jRQltGtSnSbu",
        "outputId": "816a8c19-d9d8-43b6-e4a2-1de1d0956a3c"
      },
      "source": [
        "station_infor.head()"
      ],
      "execution_count": null,
      "outputs": [
        {
          "output_type": "execute_result",
          "data": {
            "text/html": [
              "<div>\n",
              "<style scoped>\n",
              "    .dataframe tbody tr th:only-of-type {\n",
              "        vertical-align: middle;\n",
              "    }\n",
              "\n",
              "    .dataframe tbody tr th {\n",
              "        vertical-align: top;\n",
              "    }\n",
              "\n",
              "    .dataframe thead th {\n",
              "        text-align: right;\n",
              "    }\n",
              "</style>\n",
              "<table border=\"1\" class=\"dataframe\">\n",
              "  <thead>\n",
              "    <tr style=\"text-align: right;\">\n",
              "      <th></th>\n",
              "      <th>id</th>\n",
              "      <th>name</th>\n",
              "      <th>latitude</th>\n",
              "      <th>longitude</th>\n",
              "      <th>elevation</th>\n",
              "    </tr>\n",
              "  </thead>\n",
              "  <tbody>\n",
              "    <tr>\n",
              "      <th>0</th>\n",
              "      <td>GHCND:US1CTFR0022</td>\n",
              "      <td>STAMFORD 2.6 SSW, CT US</td>\n",
              "      <td>41.064100</td>\n",
              "      <td>-73.577000</td>\n",
              "      <td>36.6</td>\n",
              "    </tr>\n",
              "    <tr>\n",
              "      <th>1</th>\n",
              "      <td>GHCND:US1CTFR0039</td>\n",
              "      <td>STAMFORD 4.2 S, CT US</td>\n",
              "      <td>41.037788</td>\n",
              "      <td>-73.568176</td>\n",
              "      <td>6.4</td>\n",
              "    </tr>\n",
              "    <tr>\n",
              "      <th>2</th>\n",
              "      <td>GHCND:US1NJBG0001</td>\n",
              "      <td>BERGENFIELD 0.3 SW, NJ US</td>\n",
              "      <td>40.921298</td>\n",
              "      <td>-74.001983</td>\n",
              "      <td>20.1</td>\n",
              "    </tr>\n",
              "    <tr>\n",
              "      <th>3</th>\n",
              "      <td>GHCND:US1NJBG0002</td>\n",
              "      <td>SADDLE BROOK TWP 0.6 E, NJ US</td>\n",
              "      <td>40.902694</td>\n",
              "      <td>-74.083358</td>\n",
              "      <td>16.8</td>\n",
              "    </tr>\n",
              "    <tr>\n",
              "      <th>4</th>\n",
              "      <td>GHCND:US1NJBG0003</td>\n",
              "      <td>TENAFLY 1.3 W, NJ US</td>\n",
              "      <td>40.914670</td>\n",
              "      <td>-73.977500</td>\n",
              "      <td>21.6</td>\n",
              "    </tr>\n",
              "  </tbody>\n",
              "</table>\n",
              "</div>"
            ],
            "text/plain": [
              "                  id                           name  ...  longitude  elevation\n",
              "0  GHCND:US1CTFR0022        STAMFORD 2.6 SSW, CT US  ... -73.577000       36.6\n",
              "1  GHCND:US1CTFR0039          STAMFORD 4.2 S, CT US  ... -73.568176        6.4\n",
              "2  GHCND:US1NJBG0001      BERGENFIELD 0.3 SW, NJ US  ... -74.001983       20.1\n",
              "3  GHCND:US1NJBG0002  SADDLE BROOK TWP 0.6 E, NJ US  ... -74.083358       16.8\n",
              "4  GHCND:US1NJBG0003           TENAFLY 1.3 W, NJ US  ... -73.977500       21.6\n",
              "\n",
              "[5 rows x 5 columns]"
            ]
          },
          "metadata": {},
          "execution_count": 63
        }
      ]
    },
    {
      "cell_type": "code",
      "metadata": {
        "colab": {
          "base_uri": "https://localhost:8080/",
          "height": 204
        },
        "id": "DsawZq-unUOZ",
        "outputId": "40e7bfd7-81c2-4b29-b89d-c8d8d2aa7d51"
      },
      "source": [
        "weather.head()"
      ],
      "execution_count": null,
      "outputs": [
        {
          "output_type": "execute_result",
          "data": {
            "text/html": [
              "<div>\n",
              "<style scoped>\n",
              "    .dataframe tbody tr th:only-of-type {\n",
              "        vertical-align: middle;\n",
              "    }\n",
              "\n",
              "    .dataframe tbody tr th {\n",
              "        vertical-align: top;\n",
              "    }\n",
              "\n",
              "    .dataframe thead th {\n",
              "        text-align: right;\n",
              "    }\n",
              "</style>\n",
              "<table border=\"1\" class=\"dataframe\">\n",
              "  <thead>\n",
              "    <tr style=\"text-align: right;\">\n",
              "      <th></th>\n",
              "      <th>date</th>\n",
              "      <th>datatype</th>\n",
              "      <th>station</th>\n",
              "      <th>attributes</th>\n",
              "      <th>value</th>\n",
              "    </tr>\n",
              "  </thead>\n",
              "  <tbody>\n",
              "    <tr>\n",
              "      <th>0</th>\n",
              "      <td>2018-01-01T00:00:00</td>\n",
              "      <td>PRCP</td>\n",
              "      <td>GHCND:US1CTFR0039</td>\n",
              "      <td>,,N,</td>\n",
              "      <td>0.0</td>\n",
              "    </tr>\n",
              "    <tr>\n",
              "      <th>1</th>\n",
              "      <td>2018-01-01T00:00:00</td>\n",
              "      <td>PRCP</td>\n",
              "      <td>GHCND:US1NJBG0015</td>\n",
              "      <td>,,N,</td>\n",
              "      <td>0.0</td>\n",
              "    </tr>\n",
              "    <tr>\n",
              "      <th>2</th>\n",
              "      <td>2018-01-01T00:00:00</td>\n",
              "      <td>SNOW</td>\n",
              "      <td>GHCND:US1NJBG0015</td>\n",
              "      <td>,,N,</td>\n",
              "      <td>0.0</td>\n",
              "    </tr>\n",
              "    <tr>\n",
              "      <th>3</th>\n",
              "      <td>2018-01-01T00:00:00</td>\n",
              "      <td>PRCP</td>\n",
              "      <td>GHCND:US1NJBG0017</td>\n",
              "      <td>,,N,</td>\n",
              "      <td>0.0</td>\n",
              "    </tr>\n",
              "    <tr>\n",
              "      <th>4</th>\n",
              "      <td>2018-01-01T00:00:00</td>\n",
              "      <td>SNOW</td>\n",
              "      <td>GHCND:US1NJBG0017</td>\n",
              "      <td>,,N,</td>\n",
              "      <td>0.0</td>\n",
              "    </tr>\n",
              "  </tbody>\n",
              "</table>\n",
              "</div>"
            ],
            "text/plain": [
              "                  date datatype            station attributes  value\n",
              "0  2018-01-01T00:00:00     PRCP  GHCND:US1CTFR0039       ,,N,    0.0\n",
              "1  2018-01-01T00:00:00     PRCP  GHCND:US1NJBG0015       ,,N,    0.0\n",
              "2  2018-01-01T00:00:00     SNOW  GHCND:US1NJBG0015       ,,N,    0.0\n",
              "3  2018-01-01T00:00:00     PRCP  GHCND:US1NJBG0017       ,,N,    0.0\n",
              "4  2018-01-01T00:00:00     SNOW  GHCND:US1NJBG0017       ,,N,    0.0"
            ]
          },
          "metadata": {},
          "execution_count": 64
        }
      ]
    },
    {
      "cell_type": "code",
      "metadata": {
        "colab": {
          "base_uri": "https://localhost:8080/",
          "height": 204
        },
        "id": "B9vFwm7h0yPP",
        "outputId": "ba745d55-f52f-4847-af9f-afa90621efef"
      },
      "source": [
        "station_infor.rename(columns={\"id\":\"station\"},inplace=True)\n",
        "station_infor.head()"
      ],
      "execution_count": null,
      "outputs": [
        {
          "output_type": "execute_result",
          "data": {
            "text/html": [
              "<div>\n",
              "<style scoped>\n",
              "    .dataframe tbody tr th:only-of-type {\n",
              "        vertical-align: middle;\n",
              "    }\n",
              "\n",
              "    .dataframe tbody tr th {\n",
              "        vertical-align: top;\n",
              "    }\n",
              "\n",
              "    .dataframe thead th {\n",
              "        text-align: right;\n",
              "    }\n",
              "</style>\n",
              "<table border=\"1\" class=\"dataframe\">\n",
              "  <thead>\n",
              "    <tr style=\"text-align: right;\">\n",
              "      <th></th>\n",
              "      <th>station</th>\n",
              "      <th>name</th>\n",
              "      <th>latitude</th>\n",
              "      <th>longitude</th>\n",
              "      <th>elevation</th>\n",
              "    </tr>\n",
              "  </thead>\n",
              "  <tbody>\n",
              "    <tr>\n",
              "      <th>0</th>\n",
              "      <td>GHCND:US1CTFR0022</td>\n",
              "      <td>STAMFORD 2.6 SSW, CT US</td>\n",
              "      <td>41.064100</td>\n",
              "      <td>-73.577000</td>\n",
              "      <td>36.6</td>\n",
              "    </tr>\n",
              "    <tr>\n",
              "      <th>1</th>\n",
              "      <td>GHCND:US1CTFR0039</td>\n",
              "      <td>STAMFORD 4.2 S, CT US</td>\n",
              "      <td>41.037788</td>\n",
              "      <td>-73.568176</td>\n",
              "      <td>6.4</td>\n",
              "    </tr>\n",
              "    <tr>\n",
              "      <th>2</th>\n",
              "      <td>GHCND:US1NJBG0001</td>\n",
              "      <td>BERGENFIELD 0.3 SW, NJ US</td>\n",
              "      <td>40.921298</td>\n",
              "      <td>-74.001983</td>\n",
              "      <td>20.1</td>\n",
              "    </tr>\n",
              "    <tr>\n",
              "      <th>3</th>\n",
              "      <td>GHCND:US1NJBG0002</td>\n",
              "      <td>SADDLE BROOK TWP 0.6 E, NJ US</td>\n",
              "      <td>40.902694</td>\n",
              "      <td>-74.083358</td>\n",
              "      <td>16.8</td>\n",
              "    </tr>\n",
              "    <tr>\n",
              "      <th>4</th>\n",
              "      <td>GHCND:US1NJBG0003</td>\n",
              "      <td>TENAFLY 1.3 W, NJ US</td>\n",
              "      <td>40.914670</td>\n",
              "      <td>-73.977500</td>\n",
              "      <td>21.6</td>\n",
              "    </tr>\n",
              "  </tbody>\n",
              "</table>\n",
              "</div>"
            ],
            "text/plain": [
              "             station                           name  ...  longitude  elevation\n",
              "0  GHCND:US1CTFR0022        STAMFORD 2.6 SSW, CT US  ... -73.577000       36.6\n",
              "1  GHCND:US1CTFR0039          STAMFORD 4.2 S, CT US  ... -73.568176        6.4\n",
              "2  GHCND:US1NJBG0001      BERGENFIELD 0.3 SW, NJ US  ... -74.001983       20.1\n",
              "3  GHCND:US1NJBG0002  SADDLE BROOK TWP 0.6 E, NJ US  ... -74.083358       16.8\n",
              "4  GHCND:US1NJBG0003           TENAFLY 1.3 W, NJ US  ... -73.977500       21.6\n",
              "\n",
              "[5 rows x 5 columns]"
            ]
          },
          "metadata": {},
          "execution_count": 65
        }
      ]
    },
    {
      "cell_type": "code",
      "metadata": {
        "id": "jLf1dPp9nYIM"
      },
      "source": [
        "data = station_infor.merge(weather,on=\"station\",how='inner') \\\n",
        "                            .drop_duplicates([\"station\",\"datatype\"]).reset_index(drop=True)"
      ],
      "execution_count": null,
      "outputs": []
    },
    {
      "cell_type": "code",
      "metadata": {
        "colab": {
          "base_uri": "https://localhost:8080/"
        },
        "id": "k37nJlP8z7dB",
        "outputId": "da79d4f9-e6a1-4ecd-8011-818a690b5dde"
      },
      "source": [
        "data.shape"
      ],
      "execution_count": null,
      "outputs": [
        {
          "output_type": "execute_result",
          "data": {
            "text/plain": [
              "(633, 9)"
            ]
          },
          "metadata": {},
          "execution_count": 79
        }
      ]
    },
    {
      "cell_type": "code",
      "metadata": {
        "colab": {
          "base_uri": "https://localhost:8080/"
        },
        "id": "eNU5MD383DXr",
        "outputId": "935bf779-ae73-4516-d41f-98f4f407ebf5"
      },
      "source": [
        "snow_avg= data.query('datatype==\"SNOW\" and name.str.contains(\"NJ US\")',engine=\"python\")\n",
        "snow_avg.elevation.mean()"
      ],
      "execution_count": null,
      "outputs": [
        {
          "output_type": "execute_result",
          "data": {
            "text/plain": [
              "58.348484848484865"
            ]
          },
          "metadata": {},
          "execution_count": 95
        }
      ]
    },
    {
      "cell_type": "code",
      "metadata": {
        "id": "TUzfQ_2qHwdd"
      },
      "source": [
        "fb_2018 = pd.read_csv(\"/content/fb_2018.csv\")"
      ],
      "execution_count": null,
      "outputs": []
    },
    {
      "cell_type": "code",
      "metadata": {
        "colab": {
          "base_uri": "https://localhost:8080/",
          "height": 419
        },
        "id": "NvgAEl52BH9F",
        "outputId": "5dabcb73-0e93-4c07-b882-7b1fe00e26b9"
      },
      "source": [
        "fb_p = fb_2018.assign(p_change = lambda x: x.volume.pct_change())\n",
        "fb_p"
      ],
      "execution_count": null,
      "outputs": [
        {
          "output_type": "execute_result",
          "data": {
            "text/html": [
              "<div>\n",
              "<style scoped>\n",
              "    .dataframe tbody tr th:only-of-type {\n",
              "        vertical-align: middle;\n",
              "    }\n",
              "\n",
              "    .dataframe tbody tr th {\n",
              "        vertical-align: top;\n",
              "    }\n",
              "\n",
              "    .dataframe thead th {\n",
              "        text-align: right;\n",
              "    }\n",
              "</style>\n",
              "<table border=\"1\" class=\"dataframe\">\n",
              "  <thead>\n",
              "    <tr style=\"text-align: right;\">\n",
              "      <th></th>\n",
              "      <th>date</th>\n",
              "      <th>open</th>\n",
              "      <th>high</th>\n",
              "      <th>low</th>\n",
              "      <th>close</th>\n",
              "      <th>volume</th>\n",
              "      <th>p_change</th>\n",
              "    </tr>\n",
              "  </thead>\n",
              "  <tbody>\n",
              "    <tr>\n",
              "      <th>0</th>\n",
              "      <td>2018-01-02</td>\n",
              "      <td>177.68</td>\n",
              "      <td>181.58</td>\n",
              "      <td>177.5500</td>\n",
              "      <td>181.42</td>\n",
              "      <td>18151903</td>\n",
              "      <td>NaN</td>\n",
              "    </tr>\n",
              "    <tr>\n",
              "      <th>1</th>\n",
              "      <td>2018-01-03</td>\n",
              "      <td>181.88</td>\n",
              "      <td>184.78</td>\n",
              "      <td>181.3300</td>\n",
              "      <td>184.67</td>\n",
              "      <td>16886563</td>\n",
              "      <td>-0.069708</td>\n",
              "    </tr>\n",
              "    <tr>\n",
              "      <th>2</th>\n",
              "      <td>2018-01-04</td>\n",
              "      <td>184.90</td>\n",
              "      <td>186.21</td>\n",
              "      <td>184.0996</td>\n",
              "      <td>184.33</td>\n",
              "      <td>13880896</td>\n",
              "      <td>-0.177992</td>\n",
              "    </tr>\n",
              "    <tr>\n",
              "      <th>3</th>\n",
              "      <td>2018-01-05</td>\n",
              "      <td>185.59</td>\n",
              "      <td>186.90</td>\n",
              "      <td>184.9300</td>\n",
              "      <td>186.85</td>\n",
              "      <td>13574535</td>\n",
              "      <td>-0.022071</td>\n",
              "    </tr>\n",
              "    <tr>\n",
              "      <th>4</th>\n",
              "      <td>2018-01-08</td>\n",
              "      <td>187.20</td>\n",
              "      <td>188.90</td>\n",
              "      <td>186.3300</td>\n",
              "      <td>188.28</td>\n",
              "      <td>17994726</td>\n",
              "      <td>0.325624</td>\n",
              "    </tr>\n",
              "    <tr>\n",
              "      <th>...</th>\n",
              "      <td>...</td>\n",
              "      <td>...</td>\n",
              "      <td>...</td>\n",
              "      <td>...</td>\n",
              "      <td>...</td>\n",
              "      <td>...</td>\n",
              "      <td>...</td>\n",
              "    </tr>\n",
              "    <tr>\n",
              "      <th>246</th>\n",
              "      <td>2018-12-24</td>\n",
              "      <td>123.10</td>\n",
              "      <td>129.74</td>\n",
              "      <td>123.0200</td>\n",
              "      <td>124.06</td>\n",
              "      <td>22066002</td>\n",
              "      <td>-0.612207</td>\n",
              "    </tr>\n",
              "    <tr>\n",
              "      <th>247</th>\n",
              "      <td>2018-12-26</td>\n",
              "      <td>126.00</td>\n",
              "      <td>134.24</td>\n",
              "      <td>125.8900</td>\n",
              "      <td>134.18</td>\n",
              "      <td>39723370</td>\n",
              "      <td>0.800207</td>\n",
              "    </tr>\n",
              "    <tr>\n",
              "      <th>248</th>\n",
              "      <td>2018-12-27</td>\n",
              "      <td>132.44</td>\n",
              "      <td>134.99</td>\n",
              "      <td>129.6700</td>\n",
              "      <td>134.52</td>\n",
              "      <td>31202509</td>\n",
              "      <td>-0.214505</td>\n",
              "    </tr>\n",
              "    <tr>\n",
              "      <th>249</th>\n",
              "      <td>2018-12-28</td>\n",
              "      <td>135.34</td>\n",
              "      <td>135.92</td>\n",
              "      <td>132.2000</td>\n",
              "      <td>133.20</td>\n",
              "      <td>22627569</td>\n",
              "      <td>-0.274816</td>\n",
              "    </tr>\n",
              "    <tr>\n",
              "      <th>250</th>\n",
              "      <td>2018-12-31</td>\n",
              "      <td>134.45</td>\n",
              "      <td>134.64</td>\n",
              "      <td>129.9500</td>\n",
              "      <td>131.09</td>\n",
              "      <td>24625308</td>\n",
              "      <td>0.088288</td>\n",
              "    </tr>\n",
              "  </tbody>\n",
              "</table>\n",
              "<p>251 rows × 7 columns</p>\n",
              "</div>"
            ],
            "text/plain": [
              "           date    open    high       low   close    volume  p_change\n",
              "0    2018-01-02  177.68  181.58  177.5500  181.42  18151903       NaN\n",
              "1    2018-01-03  181.88  184.78  181.3300  184.67  16886563 -0.069708\n",
              "2    2018-01-04  184.90  186.21  184.0996  184.33  13880896 -0.177992\n",
              "3    2018-01-05  185.59  186.90  184.9300  186.85  13574535 -0.022071\n",
              "4    2018-01-08  187.20  188.90  186.3300  188.28  17994726  0.325624\n",
              "..          ...     ...     ...       ...     ...       ...       ...\n",
              "246  2018-12-24  123.10  129.74  123.0200  124.06  22066002 -0.612207\n",
              "247  2018-12-26  126.00  134.24  125.8900  134.18  39723370  0.800207\n",
              "248  2018-12-27  132.44  134.99  129.6700  134.52  31202509 -0.214505\n",
              "249  2018-12-28  135.34  135.92  132.2000  133.20  22627569 -0.274816\n",
              "250  2018-12-31  134.45  134.64  129.9500  131.09  24625308  0.088288\n",
              "\n",
              "[251 rows x 7 columns]"
            ]
          },
          "metadata": {},
          "execution_count": 121
        }
      ]
    },
    {
      "cell_type": "code",
      "metadata": {
        "colab": {
          "base_uri": "https://localhost:8080/",
          "height": 204
        },
        "id": "RIxb21olJ32e",
        "outputId": "f23c5a49-60fa-4bea-cb4e-bd9b84302a9f"
      },
      "source": [
        "fb_2018['shift_vol']=fb_2018.volume.shift(1)\n",
        "fb_2018.head()"
      ],
      "execution_count": null,
      "outputs": [
        {
          "output_type": "execute_result",
          "data": {
            "text/html": [
              "<div>\n",
              "<style scoped>\n",
              "    .dataframe tbody tr th:only-of-type {\n",
              "        vertical-align: middle;\n",
              "    }\n",
              "\n",
              "    .dataframe tbody tr th {\n",
              "        vertical-align: top;\n",
              "    }\n",
              "\n",
              "    .dataframe thead th {\n",
              "        text-align: right;\n",
              "    }\n",
              "</style>\n",
              "<table border=\"1\" class=\"dataframe\">\n",
              "  <thead>\n",
              "    <tr style=\"text-align: right;\">\n",
              "      <th></th>\n",
              "      <th>date</th>\n",
              "      <th>open</th>\n",
              "      <th>high</th>\n",
              "      <th>low</th>\n",
              "      <th>close</th>\n",
              "      <th>volume</th>\n",
              "      <th>shift_vol</th>\n",
              "    </tr>\n",
              "  </thead>\n",
              "  <tbody>\n",
              "    <tr>\n",
              "      <th>0</th>\n",
              "      <td>2018-01-02</td>\n",
              "      <td>177.68</td>\n",
              "      <td>181.58</td>\n",
              "      <td>177.5500</td>\n",
              "      <td>181.42</td>\n",
              "      <td>18151903</td>\n",
              "      <td>NaN</td>\n",
              "    </tr>\n",
              "    <tr>\n",
              "      <th>1</th>\n",
              "      <td>2018-01-03</td>\n",
              "      <td>181.88</td>\n",
              "      <td>184.78</td>\n",
              "      <td>181.3300</td>\n",
              "      <td>184.67</td>\n",
              "      <td>16886563</td>\n",
              "      <td>18151903.0</td>\n",
              "    </tr>\n",
              "    <tr>\n",
              "      <th>2</th>\n",
              "      <td>2018-01-04</td>\n",
              "      <td>184.90</td>\n",
              "      <td>186.21</td>\n",
              "      <td>184.0996</td>\n",
              "      <td>184.33</td>\n",
              "      <td>13880896</td>\n",
              "      <td>16886563.0</td>\n",
              "    </tr>\n",
              "    <tr>\n",
              "      <th>3</th>\n",
              "      <td>2018-01-05</td>\n",
              "      <td>185.59</td>\n",
              "      <td>186.90</td>\n",
              "      <td>184.9300</td>\n",
              "      <td>186.85</td>\n",
              "      <td>13574535</td>\n",
              "      <td>13880896.0</td>\n",
              "    </tr>\n",
              "    <tr>\n",
              "      <th>4</th>\n",
              "      <td>2018-01-08</td>\n",
              "      <td>187.20</td>\n",
              "      <td>188.90</td>\n",
              "      <td>186.3300</td>\n",
              "      <td>188.28</td>\n",
              "      <td>17994726</td>\n",
              "      <td>13574535.0</td>\n",
              "    </tr>\n",
              "  </tbody>\n",
              "</table>\n",
              "</div>"
            ],
            "text/plain": [
              "         date    open    high       low   close    volume   shift_vol\n",
              "0  2018-01-02  177.68  181.58  177.5500  181.42  18151903         NaN\n",
              "1  2018-01-03  181.88  184.78  181.3300  184.67  16886563  18151903.0\n",
              "2  2018-01-04  184.90  186.21  184.0996  184.33  13880896  16886563.0\n",
              "3  2018-01-05  185.59  186.90  184.9300  186.85  13574535  13880896.0\n",
              "4  2018-01-08  187.20  188.90  186.3300  188.28  17994726  13574535.0"
            ]
          },
          "metadata": {},
          "execution_count": 126
        }
      ]
    },
    {
      "cell_type": "code",
      "metadata": {
        "colab": {
          "base_uri": "https://localhost:8080/",
          "height": 204
        },
        "id": "cbNVGp-qHoy2",
        "outputId": "ca91ec2c-aa5b-4887-ccae-f9b91b155dc9"
      },
      "source": [
        "fb_p2 = fb_2018.assign(p_change = lambda x: (x.volume.sub(x.shift_vol)).div(x.shift_vol))\n",
        "fb_p2.head()"
      ],
      "execution_count": null,
      "outputs": [
        {
          "output_type": "execute_result",
          "data": {
            "text/html": [
              "<div>\n",
              "<style scoped>\n",
              "    .dataframe tbody tr th:only-of-type {\n",
              "        vertical-align: middle;\n",
              "    }\n",
              "\n",
              "    .dataframe tbody tr th {\n",
              "        vertical-align: top;\n",
              "    }\n",
              "\n",
              "    .dataframe thead th {\n",
              "        text-align: right;\n",
              "    }\n",
              "</style>\n",
              "<table border=\"1\" class=\"dataframe\">\n",
              "  <thead>\n",
              "    <tr style=\"text-align: right;\">\n",
              "      <th></th>\n",
              "      <th>date</th>\n",
              "      <th>open</th>\n",
              "      <th>high</th>\n",
              "      <th>low</th>\n",
              "      <th>close</th>\n",
              "      <th>volume</th>\n",
              "      <th>shift_vol</th>\n",
              "      <th>p_change</th>\n",
              "    </tr>\n",
              "  </thead>\n",
              "  <tbody>\n",
              "    <tr>\n",
              "      <th>0</th>\n",
              "      <td>2018-01-02</td>\n",
              "      <td>177.68</td>\n",
              "      <td>181.58</td>\n",
              "      <td>177.5500</td>\n",
              "      <td>181.42</td>\n",
              "      <td>18151903</td>\n",
              "      <td>NaN</td>\n",
              "      <td>NaN</td>\n",
              "    </tr>\n",
              "    <tr>\n",
              "      <th>1</th>\n",
              "      <td>2018-01-03</td>\n",
              "      <td>181.88</td>\n",
              "      <td>184.78</td>\n",
              "      <td>181.3300</td>\n",
              "      <td>184.67</td>\n",
              "      <td>16886563</td>\n",
              "      <td>18151903.0</td>\n",
              "      <td>-0.069708</td>\n",
              "    </tr>\n",
              "    <tr>\n",
              "      <th>2</th>\n",
              "      <td>2018-01-04</td>\n",
              "      <td>184.90</td>\n",
              "      <td>186.21</td>\n",
              "      <td>184.0996</td>\n",
              "      <td>184.33</td>\n",
              "      <td>13880896</td>\n",
              "      <td>16886563.0</td>\n",
              "      <td>-0.177992</td>\n",
              "    </tr>\n",
              "    <tr>\n",
              "      <th>3</th>\n",
              "      <td>2018-01-05</td>\n",
              "      <td>185.59</td>\n",
              "      <td>186.90</td>\n",
              "      <td>184.9300</td>\n",
              "      <td>186.85</td>\n",
              "      <td>13574535</td>\n",
              "      <td>13880896.0</td>\n",
              "      <td>-0.022071</td>\n",
              "    </tr>\n",
              "    <tr>\n",
              "      <th>4</th>\n",
              "      <td>2018-01-08</td>\n",
              "      <td>187.20</td>\n",
              "      <td>188.90</td>\n",
              "      <td>186.3300</td>\n",
              "      <td>188.28</td>\n",
              "      <td>17994726</td>\n",
              "      <td>13574535.0</td>\n",
              "      <td>0.325624</td>\n",
              "    </tr>\n",
              "  </tbody>\n",
              "</table>\n",
              "</div>"
            ],
            "text/plain": [
              "         date    open    high       low   close    volume   shift_vol  p_change\n",
              "0  2018-01-02  177.68  181.58  177.5500  181.42  18151903         NaN       NaN\n",
              "1  2018-01-03  181.88  184.78  181.3300  184.67  16886563  18151903.0 -0.069708\n",
              "2  2018-01-04  184.90  186.21  184.0996  184.33  13880896  16886563.0 -0.177992\n",
              "3  2018-01-05  185.59  186.90  184.9300  186.85  13574535  13880896.0 -0.022071\n",
              "4  2018-01-08  187.20  188.90  186.3300  188.28  17994726  13574535.0  0.325624"
            ]
          },
          "metadata": {},
          "execution_count": 128
        }
      ]
    },
    {
      "cell_type": "code",
      "metadata": {
        "id": "Zb6ZFVKxJbsx",
        "colab": {
          "base_uri": "https://localhost:8080/",
          "height": 299
        },
        "outputId": "10a06a4f-274d-482f-abd1-307c6dff83cf"
      },
      "source": [
        "import pandas as pd\n",
        "import numpy as np\n",
        "import matplotlib.pyplot as plt\n",
        "\n",
        "data = pd.read_csv('data_square.csv').values\n",
        "N = data.shape[0]\n",
        "\n",
        "x = data[:, 0].reshape(-1, 1)\n",
        "y = data[:, 1].reshape(-1, 1)\n",
        "\n",
        "plt.scatter(x, y)\n",
        "\n",
        "#nomarlize x = x/100\n",
        "x = np.hstack((np.ones((N, 1)), x, np.square(x)))\n",
        "# w = np.array([0., 1., 2.]).reshape(-1,1)\n",
        "\n",
        "print(x.shape)\n",
        "print(w.shape)"
      ],
      "execution_count": null,
      "outputs": [
        {
          "output_type": "stream",
          "name": "stdout",
          "text": [
            "(30, 3)\n",
            "(3, 1)\n"
          ]
        },
        {
          "output_type": "display_data",
          "data": {
            "image/png": "[encoded data removed]",
            "text/plain": [
              "<Figure size 432x288 with 1 Axes>"
            ]
          },
          "metadata": {
            "needs_background": "light"
          }
        }
      ]
    },
    {
      "cell_type": "code",
      "metadata": {
        "id": "EiHHBqdycuHr"
      },
      "source": [
        "w = np.dot(np.linalg.inv(np.dot(x.T,x)), np.dot(x.T,y))"
      ],
      "execution_count": null,
      "outputs": []
    },
    {
      "cell_type": "code",
      "metadata": {
        "id": "J56WH27hDj9Y",
        "colab": {
          "base_uri": "https://localhost:8080/",
          "height": 297
        },
        "outputId": "63776e1b-7c6a-4b92-a740-c0ee871fee97"
      },
      "source": [
        "predict = np.dot(x, w)\n",
        "x = data[:, 0].reshape(-1, 1)\n",
        "y = data[:, 1].reshape(-1, 1)\n",
        "plt.plot(x, predict, color = \"red\")\n",
        "plt.scatter(x, y)\n",
        "plt.xlabel('mét vuông')\n",
        "plt.ylabel('giá')\n",
        "plt.legend()\n",
        "plt.show()"
      ],
      "execution_count": null,
      "outputs": [
        {
          "output_type": "stream",
          "name": "stderr",
          "text": [
            "No handles with labels found to put in legend.\n"
          ]
        },
        {
          "output_type": "display_data",
          "data": {
            "image/png": "[encoded data removed]",
            "text/plain": [
              "<Figure size 432x288 with 1 Axes>"
            ]
          },
          "metadata": {
            "needs_background": "light"
          }
        }
      ]
    },
    {
      "cell_type": "code",
      "metadata": {
        "id": "DLCegpW4c4tH"
      },
      "source": [
        ""
      ],
      "execution_count": null,
      "outputs": []
    }
  ]
}